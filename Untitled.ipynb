{
 "cells": [
  {
   "cell_type": "markdown",
   "metadata": {},
   "source": [
    "### My implementation of transformer elements(https://arxiv.org/pdf/1706.03762.pdf)\n",
    "\n",
    "![attention](attention.png)\n"
   ]
  },
  {
   "cell_type": "code",
   "execution_count": 92,
   "metadata": {},
   "outputs": [],
   "source": [
    "import torch\n",
    "import torch.nn as nn\n",
    "import numpy as np"
   ]
  },
  {
   "cell_type": "code",
   "execution_count": 93,
   "metadata": {},
   "outputs": [],
   "source": [
    "class FFN(nn.Module):\n",
    "    def __init__(self, d_model, d_hidden):\n",
    "        super().__init__()\n",
    "        self.linear1 = nn.Linear(d_model, d_hidden)\n",
    "        self.linear2 = nn.Linear(d_hidden, d_model)\n",
    "        self.activation = nn.ReLU()\n",
    "    \n",
    "    def forward(self, x):\n",
    "        return self.linear2(self.activation(self.linear1(x)))"
   ]
  },
  {
   "cell_type": "code",
   "execution_count": 94,
   "metadata": {},
   "outputs": [],
   "source": [
    "class AddAndNorm(nn.Module):\n",
    "    def __init__(self, d_model):\n",
    "        super().__init__()\n",
    "        self.norm = nn.LayerNorm(d_model)\n",
    "    \n",
    "    def forward(self, x, y):\n",
    "        return self.norm(x+y)"
   ]
  },
  {
   "cell_type": "code",
   "execution_count": 95,
   "metadata": {},
   "outputs": [],
   "source": [
    "def Attention(query, key, values):\n",
    "    dk = query.size(1)\n",
    "    scores = nn.functional.softmax((torch.matmul(query, key.T)/np.sqrt(dk)), dim = 1)\n",
    "\n",
    "    return torch.matmul(scores, values)"
   ]
  },
  {
   "cell_type": "code",
   "execution_count": 96,
   "metadata": {},
   "outputs": [],
   "source": [
    "class MultiHeadAttention(nn.Module):\n",
    "    def __init__(self, d_model, heads):\n",
    "        super().__init__()\n",
    "        self.d_model = d_model\n",
    "        self.heads = heads\n",
    "\n",
    "        self.WQ = nn.ModuleList([nn.Linear(self.d_model,(self.d_model//self.heads), bias= False) for _ in range(self.heads)])\n",
    "        self.WK = nn.ModuleList([nn.Linear(self.d_model,(self.d_model//self.heads), bias= False) for _ in range(self.heads)])\n",
    "        self.WV = nn.ModuleList([nn.Linear(self.d_model,(self.d_model//self.heads), bias= False) for _ in range(self.heads)])\n",
    "        self.WO = nn.Linear(self.d_model, self.d_model, bias = False)\n",
    "    \n",
    "    def forward(self, query, key, values):\n",
    "        attn = []\n",
    "        for i in range(self.heads):\n",
    "            q = self.WQ[i](query)\n",
    "            k = self.WK[i](key)\n",
    "            v = self.WV[i](values)\n",
    "            \n",
    "            attn.append(Attention(q, k, v))\n",
    "        \n",
    "        cat_attn = torch.cat(attn, dim = 1)\n",
    "\n",
    "        return self.WO(cat_attn)\n",
    "        \n",
    "\n",
    "            "
   ]
  },
  {
   "cell_type": "code",
   "execution_count": 97,
   "metadata": {},
   "outputs": [],
   "source": [
    "class CreateQKV(nn.Module):\n",
    "    def __init__(self, d_model):\n",
    "        super().__init__()\n",
    "\n",
    "        self.WQ = nn.Linear(d_model, d_model, bias= False)\n",
    "        self.WK = nn.Linear(d_model, d_model, bias= False)\n",
    "        self.WV = nn.Linear(d_model, d_model, bias= False)\n",
    "\n",
    "    def forward(self, x):\n",
    "        return self.WQ(x), self.WK(x), self.WV(x)"
   ]
  },
  {
   "cell_type": "code",
   "execution_count": 98,
   "metadata": {},
   "outputs": [],
   "source": [
    "class CreateCrossQKV(nn.Module):\n",
    "    def __init__(self, d_model):\n",
    "        super().__init__()\n",
    "\n",
    "        self.WQ = nn.Linear(d_model, d_model, bias= False)\n",
    "        self.WK = nn.Linear(d_model, d_model, bias= False)\n",
    "        self.WV = nn.Linear(d_model, d_model, bias= False)\n",
    "\n",
    "    def forward(self, x, encoder_hidden):\n",
    "        return self.WQ(x), self.WK(encoder_hidden), self.WV(encoder_hidden)"
   ]
  },
  {
   "cell_type": "code",
   "execution_count": 99,
   "metadata": {},
   "outputs": [],
   "source": [
    "class EncoderModule(nn.Module):\n",
    "    def __init__(self, d_model, heads, d_hidden):\n",
    "        super().__init__()\n",
    "        self.d_model = d_model\n",
    "        self.heads = heads\n",
    "        self.d_hidden = d_hidden\n",
    "\n",
    "        self.multiheadattention = MultiHeadAttention(self.d_model, self.heads)\n",
    "        self.feedforward = FFN(self.d_model, self.d_hidden)\n",
    "        self.addnorm1 = AddAndNorm(self.d_model)\n",
    "        self.addnorm2 = AddAndNorm(self.d_model)\n",
    "\n",
    "        self.qkv = CreateQKV(self.d_model)\n",
    "\n",
    "        self.dropout = nn.Dropout(0.1)\n",
    "    \n",
    "    def forward(self, x):\n",
    "        q, v, k = self.qkv(x)\n",
    "        attn = self.multiheadattention(q, v, k)\n",
    "        output_1 = self.addnorm1(x, self.dropout(attn))\n",
    "        ffn = self.feedforward(output_1)\n",
    "        \n",
    "        return self.addnorm2(output_1, self.dropout(ffn))\n",
    "        \n",
    "\n",
    "\n",
    "\n",
    "        \n",
    "        \n"
   ]
  },
  {
   "cell_type": "code",
   "execution_count": 100,
   "metadata": {},
   "outputs": [],
   "source": [
    "def MaskedAttention(query, key, value):\n",
    "    dk = query.size(1)\n",
    "    qk = torch.matmul(query, key.T)/np.sqrt(dk)\n",
    "    for i in range(query.size(0)):\n",
    "        qk[i][i+1:] = -float('inf')\n",
    "    scores = nn.functional.softmax(qk, dim = 1)\n",
    "    \n",
    "    return torch.matmul(scores, value)\n",
    "    "
   ]
  },
  {
   "cell_type": "code",
   "execution_count": 101,
   "metadata": {},
   "outputs": [],
   "source": [
    "class MaskedMultiHeadAttention(nn.Module):\n",
    "    def __init__(self, d_model, heads):\n",
    "        super().__init__()\n",
    "        self.d_model = d_model\n",
    "        self.heads = heads\n",
    "\n",
    "        self.WQ = nn.ModuleList([nn.Linear(self.d_model,(self.d_model//self.heads), bias= False) for _ in range(self.heads)])\n",
    "        self.WK = nn.ModuleList([nn.Linear(self.d_model,(self.d_model//self.heads), bias= False) for _ in range(self.heads)])\n",
    "        self.WV = nn.ModuleList([nn.Linear(self.d_model,(self.d_model//self.heads), bias= False) for _ in range(self.heads)])\n",
    "        self.WO = nn.Linear(self.d_model, self.d_model, bias = False)\n",
    "    \n",
    "    def forward(self, query, key, values):\n",
    "        attn = []\n",
    "        for i in range(self.heads):\n",
    "            q = self.WQ[i](query)\n",
    "            k = self.WK[i](key)\n",
    "            v = self.WV[i](values)\n",
    "            \n",
    "            attn.append(MaskedAttention(q, k, v))\n",
    "        \n",
    "        cat_attn = torch.cat(attn, dim = 1)\n",
    "\n",
    "        return self.WO(cat_attn)"
   ]
  },
  {
   "cell_type": "code",
   "execution_count": 102,
   "metadata": {},
   "outputs": [],
   "source": [
    "class DecoderModule(nn.Module):\n",
    "    def __init__(self, d_model, heads, d_hidden):\n",
    "        super().__init__()\n",
    "        self.d_model = d_model\n",
    "        self.heads = heads\n",
    "        self.d_hidden = d_hidden\n",
    "\n",
    "        self.maskedattention = MaskedMultiHeadAttention(self.d_model, self.heads)\n",
    "        self.addnorm1 = AddAndNorm(self.d_model)\n",
    "\n",
    "        self.crossattetnion = MultiHeadAttention(self.d_model, self.heads)\n",
    "        self.addnorm2 = AddAndNorm(self.d_model)\n",
    "\n",
    "        self.ffn = FFN(self.d_model, self.d_hidden)\n",
    "        self.addnorm3 = AddAndNorm(self.d_model)\n",
    "\n",
    "        self.dropout = nn.Dropout(0.1)\n",
    "\n",
    "        self.qkv = CreateQKV(self.d_model)\n",
    "        self.crossqkv = CreateCrossQKV(self.d_model)\n",
    "\n",
    "    def forward(self, x, encoder_state):\n",
    "        q, k, v = self.qkv(x)\n",
    "        maskedattn = self.maskedattention(q, k, v)\n",
    "        mask_output = self.addnorm1(x, self.dropout(maskedattn))\n",
    "        print(mask_output.shape)\n",
    "        print(encoder_state.shape)\n",
    "        q2, k2, v2 = self.crossqkv(mask_output, encoder_state)\n",
    "        crossattn = self.crossattetnion(q2, k2, v2)\n",
    "        cross_output = self.addnorm2(mask_output, self.dropout(crossattn))\n",
    "        ffn_output = self.ffn(cross_output)\n",
    "\n",
    "        return self.addnorm3(cross_output, self.dropout(ffn_output))\n",
    "            \n"
   ]
  }
 ],
 "metadata": {
  "kernelspec": {
   "display_name": "Python 3",
   "language": "python",
   "name": "python3"
  },
  "language_info": {
   "codemirror_mode": {
    "name": "ipython",
    "version": 3
   },
   "file_extension": ".py",
   "mimetype": "text/x-python",
   "name": "python",
   "nbconvert_exporter": "python",
   "pygments_lexer": "ipython3",
   "version": "3.8.5"
  }
 },
 "nbformat": 4,
 "nbformat_minor": 4
}
